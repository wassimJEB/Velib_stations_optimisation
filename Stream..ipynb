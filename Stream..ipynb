{
 "cells": [
  {
   "cell_type": "code",
   "execution_count": 1,
   "metadata": {},
   "outputs": [
    {
     "ename": "ModuleNotFoundError",
     "evalue": "No module named 'numpy'",
     "output_type": "error",
     "traceback": [
      "\u001b[1;31m---------------------------------------------------------------------------\u001b[0m",
      "\u001b[1;31mModuleNotFoundError\u001b[0m                       Traceback (most recent call last)",
      "\u001b[1;32m<ipython-input-1-ceedaefc24ec>\u001b[0m in \u001b[0;36m<module>\u001b[1;34m\u001b[0m\n\u001b[0;32m      1\u001b[0m \u001b[1;32mfrom\u001b[0m \u001b[0mpyspark\u001b[0m\u001b[1;33m.\u001b[0m\u001b[0msql\u001b[0m \u001b[1;32mimport\u001b[0m \u001b[0mSparkSession\u001b[0m\u001b[1;33m\u001b[0m\u001b[1;33m\u001b[0m\u001b[0m\n\u001b[0;32m      2\u001b[0m \u001b[1;32mfrom\u001b[0m \u001b[0mpyspark\u001b[0m\u001b[1;33m.\u001b[0m\u001b[0msql\u001b[0m\u001b[1;33m.\u001b[0m\u001b[0mfunctions\u001b[0m \u001b[1;32mimport\u001b[0m \u001b[1;33m*\u001b[0m\u001b[1;33m\u001b[0m\u001b[1;33m\u001b[0m\u001b[0m\n\u001b[1;32m----> 3\u001b[1;33m \u001b[1;32mfrom\u001b[0m \u001b[0mpyspark\u001b[0m\u001b[1;33m.\u001b[0m\u001b[0mml\u001b[0m\u001b[1;33m.\u001b[0m\u001b[0mfeature\u001b[0m \u001b[1;32mimport\u001b[0m \u001b[0mNormalizer\u001b[0m\u001b[1;33m,\u001b[0m \u001b[0mStandardScaler\u001b[0m\u001b[1;33m\u001b[0m\u001b[1;33m\u001b[0m\u001b[0m\n\u001b[0m\u001b[0;32m      4\u001b[0m \u001b[1;32mimport\u001b[0m \u001b[0mrandom\u001b[0m\u001b[1;33m\u001b[0m\u001b[1;33m\u001b[0m\u001b[0m\n\u001b[0;32m      5\u001b[0m \u001b[1;33m\u001b[0m\u001b[0m\n",
      "\u001b[1;32m~\\anaconda3\\envs\\spark\\lib\\site-packages\\pyspark\\ml\\__init__.py\u001b[0m in \u001b[0;36m<module>\u001b[1;34m\u001b[0m\n\u001b[0;32m     20\u001b[0m \u001b[0mmachine\u001b[0m \u001b[0mlearning\u001b[0m \u001b[0mpipelines\u001b[0m\u001b[1;33m.\u001b[0m\u001b[1;33m\u001b[0m\u001b[1;33m\u001b[0m\u001b[0m\n\u001b[0;32m     21\u001b[0m \"\"\"\n\u001b[1;32m---> 22\u001b[1;33m \u001b[1;32mfrom\u001b[0m \u001b[0mpyspark\u001b[0m\u001b[1;33m.\u001b[0m\u001b[0mml\u001b[0m\u001b[1;33m.\u001b[0m\u001b[0mbase\u001b[0m \u001b[1;32mimport\u001b[0m \u001b[0mEstimator\u001b[0m\u001b[1;33m,\u001b[0m \u001b[0mModel\u001b[0m\u001b[1;33m,\u001b[0m \u001b[0mPredictor\u001b[0m\u001b[1;33m,\u001b[0m \u001b[0mPredictionModel\u001b[0m\u001b[1;33m,\u001b[0m\u001b[0;31m \u001b[0m\u001b[0;31m\\\u001b[0m\u001b[1;33m\u001b[0m\u001b[1;33m\u001b[0m\u001b[0m\n\u001b[0m\u001b[0;32m     23\u001b[0m     \u001b[0mTransformer\u001b[0m\u001b[1;33m,\u001b[0m \u001b[0mUnaryTransformer\u001b[0m\u001b[1;33m\u001b[0m\u001b[1;33m\u001b[0m\u001b[0m\n\u001b[0;32m     24\u001b[0m \u001b[1;32mfrom\u001b[0m \u001b[0mpyspark\u001b[0m\u001b[1;33m.\u001b[0m\u001b[0mml\u001b[0m\u001b[1;33m.\u001b[0m\u001b[0mpipeline\u001b[0m \u001b[1;32mimport\u001b[0m \u001b[0mPipeline\u001b[0m\u001b[1;33m,\u001b[0m \u001b[0mPipelineModel\u001b[0m\u001b[1;33m\u001b[0m\u001b[1;33m\u001b[0m\u001b[0m\n",
      "\u001b[1;32m~\\anaconda3\\envs\\spark\\lib\\site-packages\\pyspark\\ml\\base.py\u001b[0m in \u001b[0;36m<module>\u001b[1;34m\u001b[0m\n\u001b[0;32m     23\u001b[0m \u001b[1;32mfrom\u001b[0m \u001b[0mpyspark\u001b[0m \u001b[1;32mimport\u001b[0m \u001b[0msince\u001b[0m\u001b[1;33m\u001b[0m\u001b[1;33m\u001b[0m\u001b[0m\n\u001b[0;32m     24\u001b[0m \u001b[1;32mfrom\u001b[0m \u001b[0mpyspark\u001b[0m\u001b[1;33m.\u001b[0m\u001b[0mml\u001b[0m\u001b[1;33m.\u001b[0m\u001b[0mcommon\u001b[0m \u001b[1;32mimport\u001b[0m \u001b[0minherit_doc\u001b[0m\u001b[1;33m\u001b[0m\u001b[1;33m\u001b[0m\u001b[0m\n\u001b[1;32m---> 25\u001b[1;33m \u001b[1;32mfrom\u001b[0m \u001b[0mpyspark\u001b[0m\u001b[1;33m.\u001b[0m\u001b[0mml\u001b[0m\u001b[1;33m.\u001b[0m\u001b[0mparam\u001b[0m\u001b[1;33m.\u001b[0m\u001b[0mshared\u001b[0m \u001b[1;32mimport\u001b[0m \u001b[0mHasInputCol\u001b[0m\u001b[1;33m,\u001b[0m \u001b[0mHasOutputCol\u001b[0m\u001b[1;33m,\u001b[0m \u001b[0mHasLabelCol\u001b[0m\u001b[1;33m,\u001b[0m \u001b[0mHasFeaturesCol\u001b[0m\u001b[1;33m,\u001b[0m\u001b[0;31m \u001b[0m\u001b[0;31m\\\u001b[0m\u001b[1;33m\u001b[0m\u001b[1;33m\u001b[0m\u001b[0m\n\u001b[0m\u001b[0;32m     26\u001b[0m     \u001b[0mHasPredictionCol\u001b[0m\u001b[1;33m,\u001b[0m \u001b[0mParams\u001b[0m\u001b[1;33m\u001b[0m\u001b[1;33m\u001b[0m\u001b[0m\n\u001b[0;32m     27\u001b[0m \u001b[1;32mfrom\u001b[0m \u001b[0mpyspark\u001b[0m\u001b[1;33m.\u001b[0m\u001b[0msql\u001b[0m\u001b[1;33m.\u001b[0m\u001b[0mfunctions\u001b[0m \u001b[1;32mimport\u001b[0m \u001b[0mudf\u001b[0m\u001b[1;33m\u001b[0m\u001b[1;33m\u001b[0m\u001b[0m\n",
      "\u001b[1;32m~\\anaconda3\\envs\\spark\\lib\\site-packages\\pyspark\\ml\\param\\__init__.py\u001b[0m in \u001b[0;36m<module>\u001b[1;34m\u001b[0m\n\u001b[0;32m     19\u001b[0m \u001b[1;32mimport\u001b[0m \u001b[0mcopy\u001b[0m\u001b[1;33m\u001b[0m\u001b[1;33m\u001b[0m\u001b[0m\n\u001b[0;32m     20\u001b[0m \u001b[1;33m\u001b[0m\u001b[0m\n\u001b[1;32m---> 21\u001b[1;33m \u001b[1;32mimport\u001b[0m \u001b[0mnumpy\u001b[0m \u001b[1;32mas\u001b[0m \u001b[0mnp\u001b[0m\u001b[1;33m\u001b[0m\u001b[1;33m\u001b[0m\u001b[0m\n\u001b[0m\u001b[0;32m     22\u001b[0m \u001b[1;32mfrom\u001b[0m \u001b[0mpy4j\u001b[0m\u001b[1;33m.\u001b[0m\u001b[0mjava_gateway\u001b[0m \u001b[1;32mimport\u001b[0m \u001b[0mJavaObject\u001b[0m\u001b[1;33m\u001b[0m\u001b[1;33m\u001b[0m\u001b[0m\n\u001b[0;32m     23\u001b[0m \u001b[1;33m\u001b[0m\u001b[0m\n",
      "\u001b[1;31mModuleNotFoundError\u001b[0m: No module named 'numpy'"
     ]
    }
   ],
   "source": [
    "from pyspark.sql import SparkSession\n",
    "from pyspark.sql.functions import *\n",
    "from pyspark.ml.feature import Normalizer, StandardScaler\n",
    "import random\n",
    "\n",
    "import time\n",
    "\n",
    "kafka_topic_name = \"songTopic\"\n",
    "kafka_bootstrap_servers = 'localhost:9092'\n",
    "\n",
    "spark = SparkSession.builder.appName(\"Spotify Streaming Reccomendation System\").master(\"local[*]\").getOrCreate()\n",
    "\n",
    "spark.sparkContext.setLogLevel(\"ERROR\")\n",
    "\n",
    "# Construct a streaming DataFrame that reads from test-topic\n",
    "songs_df = spark \\\n",
    "        .readStream \\\n",
    "        .format(\"kafka\") \\\n",
    "        .option(\"kafka.bootstrap.servers\", kafka_bootstrap_servers) \\\n",
    "        .option(\"subscribe\", kafka_topic_name) \\\n",
    "        .option(\"startingOffsets\", \"latest\") \\\n",
    "        .load()\n",
    "\n",
    "songs_df1 = songs_df.selectExpr(\"CAST(value AS STRING)\", \"timestamp\")\n",
    "\n",
    "\n",
    "songs_schema_string = \"order_id INT,id STRING, name STRING,popularity INT, duration_ms DOUBLE, explicit INT, \" \\\n",
    "                           + \"artists STRING, id_artists STRING, release_date STRING, \" \\\n",
    "                           + \"danceability DOUBLE,\" \\\n",
    "                           + \"energy DOUBLE, key INT, loudness DOUBLE, \" \\\n",
    "                           + \"mode INT,\" \\\n",
    "                           + \"speechiness DOUBLE,\" \\\n",
    "                           + \"acousticness DOUBLE, instrumentalness DOUBLE, liveness DOUBLE, \" \\\n",
    "                           + \"valence DOUBLE, tempo DOUBLE, time_signature DOUBLE\"\n",
    "\n",
    "\n",
    "\n",
    "songs_df2 = songs_df1.select(from_csv(col(\"value\"), songs_schema_string).alias(\"song\"), \"timestamp\")\n",
    "\n",
    "\n",
    "songs_df3 = songs_df2.select(\"song.*\", \"timestamp\")\n",
    "\n",
    "def simple():    \n",
    "    songs_df3.createOrReplaceTempView(\"song_find\");\n",
    "    song_find_text = spark.sql(\"SELECT name, artists FROM song_find\")\n",
    "    songs_agg_write_stream = song_find_text \\\n",
    "            .writeStream \\\n",
    "            .trigger(processingTime='5 seconds') \\\n",
    "            .outputMode(\"update\") \\\n",
    "            .option(\"truncate\", \"false\") \\\n",
    "            .format(\"console\") \\\n",
    "            .start()\n",
    "\n",
    "    songs_agg_write_stream.awaitTermination()\n",
    "\n",
    "    print(\"Songs Streaming...\")\n",
    "    \n",
    "def csv_output():    \n",
    "    song_find_text = spark.sql(\"SELECT name, artists FROM song_find\")\n",
    "    songs_agg_write_stream = song_find_text \\\n",
    "            .writeStream \\\n",
    "            .trigger(processingTime='5 seconds') \\\n",
    "            .outputMode(\"append\") \\\n",
    "            .option(\"truncate\", \"false\") \\\n",
    "            .option(\"path\",'answ') \\\n",
    "            .option(\"checkpointLocation\", \"checkpoint_path\") \\\n",
    "            .format(\"csv\") \\\n",
    "            .start()\n",
    "\n",
    "    songs_agg_write_stream.awaitTermination()\n",
    "\n",
    "    print(\"Songs Streaming...\")\n",
    "    \n",
    "songs_df3.createOrReplaceTempView(\"song_find\");\n",
    "song_find_text = spark.sql(\"SELECT * FROM song_find\")\n",
    "songs_agg_write_stream = song_find_text \\\n",
    "        .writeStream \\\n",
    "        .trigger(processingTime='5 seconds') \\\n",
    "        .outputMode(\"append\") \\\n",
    "        .option(\"truncate\", \"false\") \\\n",
    "        .format(\"memory\") \\\n",
    "        .queryName(\"testedTable5\") \\\n",
    "        .start()\n",
    "\n",
    "songs_agg_write_stream.awaitTermination(1)"
   ]
  },
  {
   "cell_type": "code",
   "execution_count": null,
   "metadata": {},
   "outputs": [],
   "source": [
    "import pandas as pd\n",
    "from spotify_api import getSong\n",
    "song_data = getSong.passs()\n",
    "#song_data.rename(columns={'duration_s': 'duration_ms' }, inplace=True)\n",
    "song_data = song_data.drop(['id', 'added_at', 'time_signature','duration_s'], axis='columns')\n",
    "rand_n = random. randint(0,len(song_data)-1)\n",
    "add_df = song_data.head(rand_n)[-1:]"
   ]
  },
  {
   "cell_type": "code",
   "execution_count": null,
   "metadata": {},
   "outputs": [],
   "source": []
  }
 ],
 "metadata": {
  "interpreter": {
   "hash": "d7670baacbd77ff13765d89dbd850b6d051cf6c1db10b496ac419e5371323325"
  },
  "kernelspec": {
   "display_name": "Python 3.6.13 64-bit ('spark': conda)",
   "language": "python",
   "name": "python3"
  },
  "language_info": {
   "codemirror_mode": {
    "name": "ipython",
    "version": 3
   },
   "file_extension": ".py",
   "mimetype": "text/x-python",
   "name": "python",
   "nbconvert_exporter": "python",
   "pygments_lexer": "ipython3",
   "version": "3.6.13"
  },
  "orig_nbformat": 4
 },
 "nbformat": 4,
 "nbformat_minor": 2
}
